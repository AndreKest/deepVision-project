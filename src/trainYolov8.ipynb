{
 "cells": [
  {
   "attachments": {},
   "cell_type": "markdown",
   "metadata": {},
   "source": [
    "# YoloX Training\n",
    "\n",
    "basiert auf dem YoloX GitHub Repository von Megvii-BaseDetection (https://github.com/Megvii-BaseDetection/YOLOX)"
   ]
  },
  {
   "cell_type": "code",
   "execution_count": 5,
   "metadata": {},
   "outputs": [
    {
     "ename": "ModuleNotFoundError",
     "evalue": "No module named 'yolox'",
     "output_type": "error",
     "traceback": [
      "\u001b[0;31m---------------------------------------------------------------------------\u001b[0m",
      "\u001b[0;31mModuleNotFoundError\u001b[0m                       Traceback (most recent call last)",
      "Cell \u001b[0;32mIn[5], line 1\u001b[0m\n\u001b[0;32m----> 1\u001b[0m \u001b[39mfrom\u001b[39;00m \u001b[39myoloxUtils\u001b[39;00m \u001b[39mimport\u001b[39;00m train\n\u001b[1;32m      2\u001b[0m \u001b[39mfrom\u001b[39;00m \u001b[39myoloxUtils\u001b[39;00m\u001b[39m.\u001b[39;00m\u001b[39myolox\u001b[39;00m \u001b[39mimport\u001b[39;00m \u001b[39m*\u001b[39m\n\u001b[1;32m      3\u001b[0m \u001b[39mfrom\u001b[39;00m \u001b[39myoloxUtils\u001b[39;00m \u001b[39mimport\u001b[39;00m yolox_m\n",
      "File \u001b[0;32m~/Documents/Studium/Künstliche Intelligenz/2. Semester/Deep Vision/deepVision-project/src/yoloxUtils/train.py:13\u001b[0m\n\u001b[1;32m     10\u001b[0m \u001b[39mimport\u001b[39;00m \u001b[39mtorch\u001b[39;00m\n\u001b[1;32m     11\u001b[0m \u001b[39mimport\u001b[39;00m \u001b[39mtorch\u001b[39;00m\u001b[39m.\u001b[39;00m\u001b[39mbackends\u001b[39;00m\u001b[39m.\u001b[39;00m\u001b[39mcudnn\u001b[39;00m \u001b[39mas\u001b[39;00m \u001b[39mcudnn\u001b[39;00m\n\u001b[0;32m---> 13\u001b[0m \u001b[39mfrom\u001b[39;00m \u001b[39myolox\u001b[39;00m\u001b[39m.\u001b[39;00m\u001b[39mcore\u001b[39;00m \u001b[39mimport\u001b[39;00m launch\n\u001b[1;32m     14\u001b[0m \u001b[39mfrom\u001b[39;00m \u001b[39myolox\u001b[39;00m\u001b[39m.\u001b[39;00m\u001b[39mexp\u001b[39;00m \u001b[39mimport\u001b[39;00m Exp, check_exp_value, get_exp\n\u001b[1;32m     15\u001b[0m \u001b[39mfrom\u001b[39;00m \u001b[39myolox\u001b[39;00m\u001b[39m.\u001b[39;00m\u001b[39mutils\u001b[39;00m \u001b[39mimport\u001b[39;00m configure_module, configure_nccl, configure_omp, get_num_devices\n",
      "\u001b[0;31mModuleNotFoundError\u001b[0m: No module named 'yolox'"
     ]
    }
   ],
   "source": [
    "from yoloxUtils import train\n",
    "from yoloxUtils.yolox import *\n",
    "from yoloxUtils import yolox_m"
   ]
  },
  {
   "cell_type": "code",
   "execution_count": null,
   "metadata": {},
   "outputs": [],
   "source": []
  }
 ],
 "metadata": {
  "kernelspec": {
   "display_name": "deepvision",
   "language": "python",
   "name": "python3"
  },
  "language_info": {
   "codemirror_mode": {
    "name": "ipython",
    "version": 3
   },
   "file_extension": ".py",
   "mimetype": "text/x-python",
   "name": "python",
   "nbconvert_exporter": "python",
   "pygments_lexer": "ipython3",
   "version": "3.11.3"
  },
  "orig_nbformat": 4
 },
 "nbformat": 4,
 "nbformat_minor": 2
}
