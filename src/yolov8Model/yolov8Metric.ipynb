{
  "cells": [
    {
      "cell_type": "markdown",
      "metadata": {},
      "source": [
        "# Berechne Metriken für Validation- und Testdaten mit dem YOLOv8 Modell"
      ]
    },
    {
      "cell_type": "code",
      "execution_count": 21,
      "metadata": {
        "id": "uKYC7bs8M-4I"
      },
      "outputs": [],
      "source": [
        "import dill\n",
        "import numpy as np\n",
        "from ultralytics import YOLO"
      ]
    },
    {
      "cell_type": "markdown",
      "metadata": {},
      "source": [
        "# Function"
      ]
    },
    {
      "cell_type": "code",
      "execution_count": 19,
      "metadata": {},
      "outputs": [],
      "source": [
        "def createDictionary(metrics):\n",
        "  \"\"\" convert the ultralytics metric object to dictionary \"\"\"\n",
        "  dct_metrics = {}\n",
        "  dct_metrics['all_ap'] = metrics.box.all_ap # mAP für jede Klasse mit IoU Schritten von 0.5 bis 0.95 (0.05 Schritte)\n",
        "  dct_metrics['ap'] = metrics.box.ap\n",
        "  dct_metrics['ap50'] = metrics.box.ap50\n",
        "  dct_metrics['ap_class_index'] = metrics.box.ap_class_index\n",
        "  dct_metrics['f1'] = metrics.box.f1\n",
        "  dct_metrics['map'] = metrics.box.map\n",
        "  dct_metrics['map50'] = metrics.box.map50\n",
        "  dct_metrics['map75'] = metrics.box.map75\n",
        "  dct_metrics['maps'] = metrics.box.maps\n",
        "  dct_metrics['mp'] = metrics.box.mp\n",
        "  dct_metrics['mr'] = metrics.box.mr\n",
        "  dct_metrics['nc'] = metrics.box.nc\n",
        "  dct_metrics['p'] = metrics.box.p\n",
        "  dct_metrics['r'] = metrics.box.r\n",
        "  return dct_metrics\n"
      ]
    },
    {
      "cell_type": "code",
      "execution_count": 59,
      "metadata": {},
      "outputs": [],
      "source": [
        "def calculateMetric(metrics):\n",
        "    \"\"\"\n",
        "    Berechnet Metriken für alle Klassen und spezifisch für die Klassen einzeln\n",
        "    \n",
        "    Parameters\n",
        "    ----------\n",
        "    metrics : dict       Dictionary mit Metriken\n",
        "\n",
        "    Returns\n",
        "    -------\n",
        "    None\n",
        "\n",
        "    Gibt die Metriken für die gegebenen Klassen in Konsole aus\n",
        "    \"\"\"\n",
        "    clsNames = ['car', 'pedestrian', 'trafficLight', 'truck', 'biker']\n",
        "\n",
        "    print(\"Alle Klassen:\")\n",
        "    print(\"mAP@0.5:0.95:\\t\", round(metrics['map'], 3))\n",
        "    print(\"mAP@0.5:\\t\", round(metrics['map50'], 3))\n",
        "    print(\"mAP@0.75:\\t\", round(metrics['map75'], 3))\n",
        "\n",
        "    for clsID in range(metrics['nc']):\n",
        "        print(\"\\nKlasse \", clsID, \" (\", clsNames[clsID], \"):\")\n",
        "        print(\"mAP@0.5:0.95:\\t\", round(metrics['all_ap'][clsID].mean(), 3))\n",
        "        print(\"mAP@0.5:\\t\", round(metrics['all_ap'][clsID, 0], 3))\n",
        "        print(\"mAP@0.75:\\t\", round(metrics['all_ap'][clsID, 5], 3))\n",
        "\n"
      ]
    },
    {
      "cell_type": "markdown",
      "metadata": {},
      "source": [
        "## Lade Modell"
      ]
    },
    {
      "cell_type": "code",
      "execution_count": null,
      "metadata": {
        "colab": {
          "base_uri": "https://localhost:8080/"
        },
        "id": "RjfRcrUpM7HM",
        "outputId": "a5435b39-2234-4a98-ca6c-9aff8950620f"
      },
      "outputs": [],
      "source": [
        "# Load model\n",
        "model = YOLO('runs/detect/yolov8m_200_epoch/weights/best.pt')"
      ]
    },
    {
      "cell_type": "markdown",
      "metadata": {},
      "source": [
        "## Metriken für Validation"
      ]
    },
    {
      "cell_type": "code",
      "execution_count": 16,
      "metadata": {
        "colab": {
          "base_uri": "https://localhost:8080/"
        },
        "id": "1lqBPj12KK0W",
        "outputId": "2f4ebfd7-8219-45fa-af72-343590e06fee"
      },
      "outputs": [
        {
          "name": "stderr",
          "output_type": "stream",
          "text": [
            "Ultralytics YOLOv8.0.136 🚀 Python-3.10.12 torch-2.0.1+cu118 CUDA:0 (Tesla T4, 15102MiB)\n",
            "\u001b[34m\u001b[1mval: \u001b[0mScanning /content/drive/MyDrive/Deep Vision/yolov8Model/datasets/dataYolov8/val/labels.cache... 2661 images, 0 backgrounds, 0 corrupt: 100%|██████████| 2661/2661 [00:00<?, ?it/s]\n",
            "\u001b[34m\u001b[1mval: \u001b[0mWARNING ⚠️ /content/drive/MyDrive/Deep Vision/yolov8Model/datasets/dataYolov8/val/images/1478899459750057064_jpg.rf.0458fc6b3f19834e7e3054789b3b3873.jpg: 1 duplicate labels removed\n",
            "                 Class     Images  Instances      Box(P          R      mAP50  mAP50-95): 100%|██████████| 333/333 [01:06<00:00,  5.00it/s]\n",
            "                   all       2661      19808      0.858       0.73      0.793      0.501\n",
            "                   car       2661      12949      0.884      0.825      0.873      0.607\n",
            "            pedestrian       2661       2375      0.796       0.59       0.67      0.342\n",
            "          trafficLight       2661       3422      0.902      0.767      0.831      0.499\n",
            "                 truck       2661        691      0.872      0.831      0.877      0.646\n",
            "                 biker       2661        371      0.834      0.636      0.713      0.412\n",
            "Speed: 0.2ms preprocess, 17.4ms inference, 0.0ms loss, 1.0ms postprocess per image\n",
            "Results saved to \u001b[1mruns/detect/val11\u001b[0m\n"
          ]
        }
      ],
      "source": [
        "# Validate model\n",
        "metrics = model.val(batch=8, imgsz=512, iou=0.6, conf=0.001, split=\"val\")\n",
        "dct_metrics = createDictionary(metrics)\n",
        "with open('./yolov8Metrics/metrics_val.pkl', 'wb') as file:\n",
        "    dill.dump(dct_metrics, file)"
      ]
    },
    {
      "cell_type": "code",
      "execution_count": 22,
      "metadata": {},
      "outputs": [],
      "source": [
        "# Lade Metriken\n",
        "with open('./yolov8Metrics/metrics_val.pkl', 'rb') as file:\n",
        "    metrics = dill.load(file)"
      ]
    },
    {
      "cell_type": "code",
      "execution_count": 60,
      "metadata": {},
      "outputs": [
        {
          "name": "stdout",
          "output_type": "stream",
          "text": [
            "Alle Klassen:\n",
            "mAP@0.5:0.95:\t 0.501\n",
            "mAP@0.5:\t 0.793\n",
            "mAP@0.75:\t 0.528\n",
            "\n",
            "Klasse  0  ( car ):\n",
            "mAP@0.5:0.95:\t 0.607\n",
            "mAP@0.5:\t 0.873\n",
            "mAP@0.75:\t 0.684\n",
            "\n",
            "Klasse  1  ( pedestrian ):\n",
            "mAP@0.5:0.95:\t 0.342\n",
            "mAP@0.5:\t 0.67\n",
            "mAP@0.75:\t 0.297\n",
            "\n",
            "Klasse  2  ( trafficLight ):\n",
            "mAP@0.5:0.95:\t 0.499\n",
            "mAP@0.5:\t 0.831\n",
            "mAP@0.75:\t 0.501\n",
            "\n",
            "Klasse  3  ( truck ):\n",
            "mAP@0.5:0.95:\t 0.646\n",
            "mAP@0.5:\t 0.877\n",
            "mAP@0.75:\t 0.743\n",
            "\n",
            "Klasse  4  ( biker ):\n",
            "mAP@0.5:0.95:\t 0.412\n",
            "mAP@0.5:\t 0.713\n",
            "mAP@0.75:\t 0.416\n"
          ]
        }
      ],
      "source": [
        "calculateMetric(metrics)"
      ]
    },
    {
      "cell_type": "markdown",
      "metadata": {},
      "source": [
        "## Metriken für Test"
      ]
    },
    {
      "cell_type": "code",
      "execution_count": 17,
      "metadata": {
        "colab": {
          "base_uri": "https://localhost:8080/"
        },
        "id": "n25Tv4LFoXMM",
        "outputId": "339967d5-a3be-44bf-9324-031c2578d980"
      },
      "outputs": [
        {
          "name": "stderr",
          "output_type": "stream",
          "text": [
            "Ultralytics YOLOv8.0.136 🚀 Python-3.10.12 torch-2.0.1+cu118 CUDA:0 (Tesla T4, 15102MiB)\n",
            "\u001b[34m\u001b[1mval: \u001b[0mScanning /content/drive/MyDrive/Deep Vision/yolov8Model/datasets/dataYolov8/test/labels.cache... 1311 images, 0 backgrounds, 0 corrupt: 100%|██████████| 1311/1311 [00:00<?, ?it/s]\n",
            "                 Class     Images  Instances      Box(P          R      mAP50  mAP50-95): 100%|██████████| 164/164 [00:48<00:00,  3.36it/s]\n",
            "                   all       1311       9553      0.859       0.73      0.794      0.498\n",
            "                   car       1311       6284      0.886      0.823      0.873      0.609\n",
            "            pedestrian       1311        986      0.807      0.626      0.703       0.36\n",
            "          trafficLight       1311       1773      0.896      0.743      0.817      0.493\n",
            "                 truck       1311        325      0.841      0.796      0.835      0.612\n",
            "                 biker       1311        185      0.867      0.665      0.741      0.414\n",
            "Speed: 0.3ms preprocess, 18.1ms inference, 0.0ms loss, 1.5ms postprocess per image\n",
            "Results saved to \u001b[1mruns/detect/val12\u001b[0m\n"
          ]
        }
      ],
      "source": [
        "# Validate model\n",
        "metrics = model.val(batch=8, imgsz=512, iou=0.6, conf=0.001, split=\"test\")\n",
        "dct_metrics = createDictionary(metrics)\n",
        "with open('./yolov8Metrics/metrics_test.pkl', 'wb') as file:\n",
        "    dill.dump(dct_metrics, file)\n"
      ]
    },
    {
      "cell_type": "code",
      "execution_count": 61,
      "metadata": {
        "id": "SvRmsxkIq7fT"
      },
      "outputs": [],
      "source": [
        "# Lade Metriken\n",
        "with open('./yolov8Metrics/metrics_test.pkl', 'rb') as file:\n",
        "    metrics = dill.load(file)"
      ]
    },
    {
      "cell_type": "markdown",
      "metadata": {},
      "source": [
        "## Metriken für Test"
      ]
    },
    {
      "cell_type": "code",
      "execution_count": 62,
      "metadata": {},
      "outputs": [
        {
          "name": "stdout",
          "output_type": "stream",
          "text": [
            "Alle Klassen:\n",
            "mAP@0.5:0.95:\t 0.498\n",
            "mAP@0.5:\t 0.794\n",
            "mAP@0.75:\t 0.523\n",
            "\n",
            "Klasse  0  ( car ):\n",
            "mAP@0.5:0.95:\t 0.609\n",
            "mAP@0.5:\t 0.873\n",
            "mAP@0.75:\t 0.691\n",
            "\n",
            "Klasse  1  ( pedestrian ):\n",
            "mAP@0.5:0.95:\t 0.36\n",
            "mAP@0.5:\t 0.703\n",
            "mAP@0.75:\t 0.316\n",
            "\n",
            "Klasse  2  ( trafficLight ):\n",
            "mAP@0.5:0.95:\t 0.493\n",
            "mAP@0.5:\t 0.817\n",
            "mAP@0.75:\t 0.505\n",
            "\n",
            "Klasse  3  ( truck ):\n",
            "mAP@0.5:0.95:\t 0.612\n",
            "mAP@0.5:\t 0.835\n",
            "mAP@0.75:\t 0.696\n",
            "\n",
            "Klasse  4  ( biker ):\n",
            "mAP@0.5:0.95:\t 0.414\n",
            "mAP@0.5:\t 0.741\n",
            "mAP@0.75:\t 0.406\n"
          ]
        }
      ],
      "source": [
        "calculateMetric(metrics)"
      ]
    }
  ],
  "metadata": {
    "accelerator": "GPU",
    "colab": {
      "gpuType": "T4",
      "machine_shape": "hm",
      "provenance": []
    },
    "kernelspec": {
      "display_name": "Python 3",
      "name": "python3"
    },
    "language_info": {
      "codemirror_mode": {
        "name": "ipython",
        "version": 3
      },
      "file_extension": ".py",
      "mimetype": "text/x-python",
      "name": "python",
      "nbconvert_exporter": "python",
      "pygments_lexer": "ipython3",
      "version": "3.11.3"
    }
  },
  "nbformat": 4,
  "nbformat_minor": 0
}
