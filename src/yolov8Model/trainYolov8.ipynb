{
 "cells": [
  {
   "cell_type": "code",
   "execution_count": 1,
   "metadata": {},
   "outputs": [],
   "source": [
    "import numpy as np\n",
    "from ultralytics import YOLO\n",
    "\n",
    "from PIL import Image\n",
    "\n"
   ]
  },
  {
   "attachments": {},
   "cell_type": "markdown",
   "metadata": {},
   "source": [
    "# Yolov8 Training"
   ]
  },
  {
   "cell_type": "code",
   "execution_count": null,
   "metadata": {},
   "outputs": [],
   "source": [
    "# Load model\n",
    "model = YOLO('weights/yolov8m.pt')          # Pre-Trained model (COCO dataset)\n",
    "\n",
    "results = model.train(data='config.yaml', imgsz=512, epochs=200, device='0', batch=8, name='yolov8m', save=True, verbose=True)"
   ]
  },
  {
   "attachments": {},
   "cell_type": "markdown",
   "metadata": {},
   "source": [
    "# Yolov8 Validation"
   ]
  },
  {
   "cell_type": "code",
   "execution_count": 2,
   "metadata": {},
   "outputs": [],
   "source": [
    "# Load model\n",
    "model = YOLO('weights/best.pt', device='cpu')\n",
    "\n",
    "# Validate model\n",
    "metrics = model.val(batch=8, imgsz=512, iou=0.6, conf=0.001)\n",
    "metrics.box.map     # mAP50-95\n",
    "metrics.box.map50   # mA50\n",
    "metrics.box.map75   # mAP75\n",
    "metrics.box.maps    # a list contains mAP50-95 of each category"
   ]
  },
  {
   "attachments": {},
   "cell_type": "markdown",
   "metadata": {},
   "source": [
    "# Yolov8 Prediction"
   ]
  },
  {
   "cell_type": "code",
   "execution_count": null,
   "metadata": {},
   "outputs": [],
   "source": [
    "# Load model\n",
    "model = YOLO('runs/detect/yolov8m_200_epoch/weights/best.pt')\n",
    "\n",
    "images = ['testImages/testImage_1.jpg', 'testImages/testImage_2.jpg', 'testImages/testImage_3.jpg', 'testImages/testImage_4.jpg'] # path to images\n",
    "model.predict(images, save=True, imgsz=520, conf=0.5)\n"
   ]
  }
 ],
 "metadata": {
  "kernelspec": {
   "display_name": "deepvision",
   "language": "python",
   "name": "python3"
  },
  "language_info": {
   "codemirror_mode": {
    "name": "ipython",
    "version": 3
   },
   "file_extension": ".py",
   "mimetype": "text/x-python",
   "name": "python",
   "nbconvert_exporter": "python",
   "pygments_lexer": "ipython3",
   "version": "3.11.3"
  },
  "orig_nbformat": 4
 },
 "nbformat": 4,
 "nbformat_minor": 2
}
