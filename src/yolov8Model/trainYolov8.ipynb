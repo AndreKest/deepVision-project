{
 "cells": [
  {
   "cell_type": "code",
   "execution_count": 1,
   "metadata": {},
   "outputs": [],
   "source": [
    "import numpy as np\n",
    "from ultralytics import YOLO\n",
    "\n",
    "from PIL import Image\n",
    "\n"
   ]
  },
  {
   "attachments": {},
   "cell_type": "markdown",
   "metadata": {},
   "source": [
    "# Yolov8 Training"
   ]
  },
  {
   "cell_type": "code",
   "execution_count": 3,
   "metadata": {},
   "outputs": [
    {
     "ename": "TypeError",
     "evalue": "YOLO.__init__() got an unexpected keyword argument 'device'",
     "output_type": "error",
     "traceback": [
      "\u001b[0;31m---------------------------------------------------------------------------\u001b[0m",
      "\u001b[0;31mTypeError\u001b[0m                                 Traceback (most recent call last)",
      "Cell \u001b[0;32mIn[3], line 2\u001b[0m\n\u001b[1;32m      1\u001b[0m \u001b[39m# Load model\u001b[39;00m\n\u001b[0;32m----> 2\u001b[0m model \u001b[39m=\u001b[39m YOLO(\u001b[39m'\u001b[39;49m\u001b[39mweights/yolov8m.pt\u001b[39;49m\u001b[39m'\u001b[39;49m, device\u001b[39m=\u001b[39;49m\u001b[39m'\u001b[39;49m\u001b[39mcpu\u001b[39;49m\u001b[39m'\u001b[39;49m)          \u001b[39m# Pre-Trained model (COCO dataset)\u001b[39;00m\n\u001b[1;32m      4\u001b[0m results \u001b[39m=\u001b[39m model\u001b[39m.\u001b[39mtrain(data\u001b[39m=\u001b[39m\u001b[39m'\u001b[39m\u001b[39mconfig.yaml\u001b[39m\u001b[39m'\u001b[39m, imgsz\u001b[39m=\u001b[39m\u001b[39m512\u001b[39m, epochs\u001b[39m=\u001b[39m\u001b[39m10\u001b[39m, batch\u001b[39m=\u001b[39m\u001b[39m8\u001b[39m, name\u001b[39m=\u001b[39m\u001b[39m'\u001b[39m\u001b[39myolov8m\u001b[39m\u001b[39m'\u001b[39m, save\u001b[39m=\u001b[39m\u001b[39mTrue\u001b[39;00m, verbose\u001b[39m=\u001b[39m\u001b[39mTrue\u001b[39;00m)\n",
      "\u001b[0;31mTypeError\u001b[0m: YOLO.__init__() got an unexpected keyword argument 'device'"
     ]
    }
   ],
   "source": [
    "# Load model\n",
    "model = YOLO('weights/yolov8m.pt')          # Pre-Trained model (COCO dataset)\n",
    "\n",
    "results = model.train(data='config.yaml', imgsz=512, epochs=10, device='0', batch=8, name='yolov8m', save=True, verbose=True)"
   ]
  },
  {
   "attachments": {},
   "cell_type": "markdown",
   "metadata": {},
   "source": [
    "# Yolov8 Validation"
   ]
  },
  {
   "cell_type": "code",
   "execution_count": 2,
   "metadata": {},
   "outputs": [],
   "source": [
    "# Load model\n",
    "model = YOLO('weights/best.pt', device='cpu')\n",
    "\n",
    "# Validate model\n",
    "metrics = model.val(batch_size=8, imgsz=512, iou=0.6, conf=0.001)\n",
    "metrics.box.map     # mAP50-95\n",
    "metrics.box.map50   # mA50\n",
    "metrics.box.map75   # mAP75\n",
    "metrics.box.maps    # a list contains mAP50-95 of each category"
   ]
  },
  {
   "attachments": {},
   "cell_type": "markdown",
   "metadata": {},
   "source": [
    "# Yolov8 Prediction"
   ]
  },
  {
   "cell_type": "code",
   "execution_count": null,
   "metadata": {},
   "outputs": [],
   "source": [
    "# Load model\n",
    "model = YOLO('weights/best.pt', device='cpu')\n",
    "\n",
    "image = Image.open('testImages/testImage_1.jpg')  # PIL image\n",
    "\n",
    "images = ['testImage_1.jpg', 'testImage_2.jpg', 'testImage_3.jpg', 'testImage_4.jpg'] # path to images\n",
    "results = model(images)\n",
    "\n",
    "# Process results list\n",
    "for result in results:\n",
    "    boxes = result.boxes  # Boxes object for bbox outputs\n",
    "    masks = result.masks  # Masks object for segmentation masks outputs\n",
    "    keypoints = result.keypoints  # Keypoints object for pose outputs\n",
    "    probs = result.probs  # Class probabilities for classification outputs"
   ]
  }
 ],
 "metadata": {
  "kernelspec": {
   "display_name": "deepvision",
   "language": "python",
   "name": "python3"
  },
  "language_info": {
   "codemirror_mode": {
    "name": "ipython",
    "version": 3
   },
   "file_extension": ".py",
   "mimetype": "text/x-python",
   "name": "python",
   "nbconvert_exporter": "python",
   "pygments_lexer": "ipython3",
   "version": "3.11.3"
  },
  "orig_nbformat": 4
 },
 "nbformat": 4,
 "nbformat_minor": 2
}
