{
 "cells": [
  {
   "attachments": {},
   "cell_type": "markdown",
   "metadata": {},
   "source": [
    "# Wandle Datensatz in das Format für YoloX und Yolov8 um"
   ]
  },
  {
   "cell_type": "code",
   "execution_count": 60,
   "metadata": {},
   "outputs": [],
   "source": [
    "import os\n",
    "import shutil\n",
    "import json\n",
    "\n",
    "import numpy as np\n",
    "import pandas as pd\n",
    "\n",
    "from pycocotools import coco"
   ]
  },
  {
   "attachments": {},
   "cell_type": "markdown",
   "metadata": {},
   "source": [
    "## YoloX"
   ]
  },
  {
   "cell_type": "code",
   "execution_count": 52,
   "metadata": {},
   "outputs": [],
   "source": [
    "datasetPathSRC = '../data/dataFiltered'\n",
    "datasetPathYoloX = '../data/dataFormats/dataYoloX'\n",
    "\n",
    "# Erstelle Ordnerstruktur wenn nicht vorhanden\n",
    "if not os.path.exists(datasetPathYoloX):\n",
    "    os.makedirs(datasetPathYoloX)"
   ]
  },
  {
   "cell_type": "code",
   "execution_count": 53,
   "metadata": {},
   "outputs": [],
   "source": [
    "# Erstelle leeren COCO-Datensatz\n",
    "cocoDataset = coco.COCO()"
   ]
  },
  {
   "cell_type": "code",
   "execution_count": 54,
   "metadata": {},
   "outputs": [
    {
     "name": "stdout",
     "output_type": "stream",
     "text": [
      "[{'id': 0, 'name': 'car'}, {'id': 1, 'name': 'pedestrian'}, {'id': 2, 'name': 'trafficLight'}, {'id': 3, 'name': 'truck'}, {'id': 4, 'name': 'biker'}]\n"
     ]
    }
   ],
   "source": [
    "# Erstelle COCO Dataset categories\n",
    "categories = [\n",
    "    {'id': 0, 'name': 'car'},\n",
    "    {'id': 1, 'name': 'pedestrian'},\n",
    "    {'id': 2, 'name': 'trafficLight'},\n",
    "    {'id': 3, 'name': 'truck'},\n",
    "    {'id': 4, 'name': 'biker'}\n",
    "    ]\n",
    "\n",
    "categoryIdMap = {category['name']: category['id'] for category in categories}\n",
    "\n",
    "categoryData = [{'id': category['id'], 'name': category['name']} for category in categories]\n",
    "cocoDataset.dataset['categories'] = categoryData\n",
    "\n",
    "print(cocoDataset.dataset['categories'])\n"
   ]
  },
  {
   "cell_type": "code",
   "execution_count": 58,
   "metadata": {},
   "outputs": [
    {
     "name": "stdout",
     "output_type": "stream",
     "text": [
      "creating index...\n",
      "index created!\n"
     ]
    }
   ],
   "source": [
    "# Füge Bilder zum COCO-Datensatz hinzu\n",
    "annotationFilePath = os.path.join(datasetPathSRC, '_annotations_newClasses.csv')\n",
    "imagePath = os.path.join(datasetPathSRC)\n",
    "\n",
    "annotationFile = pd.read_csv(annotationFilePath)\n",
    "cocoDataset.dataset['images'] = []\n",
    "cocoDataset.dataset['annotations'] = []\n",
    "\n",
    "for index, row in annotationFile.iterrows():\n",
    "    # Pfad zum Bild\n",
    "    imagePath = os.path.join(datasetPathSRC, row['filename'])\n",
    "\n",
    "    # Kopiere Bild in YoloX-Ordner\n",
    "    imagePathYoloX = os.path.join(datasetPathYoloX, row['filename'])\n",
    "    if not os.path.exists(imagePathYoloX):\n",
    "        shutil.copy(imagePath, imagePathYoloX)\n",
    "\n",
    "\n",
    "    imageData = {\n",
    "        'id': index,\n",
    "        'file_name': row['filename'],\n",
    "        'width': row['width'],\n",
    "        'height': row['height']\n",
    "    }\n",
    "    cocoDataset.dataset['images'].append(imageData)\n",
    "\n",
    "    # Füge Annotationen zum COCO-Datensatz hinzu\n",
    "    annotationData = {\n",
    "        'id': index,\n",
    "        'image_id': index,\n",
    "        'category_id': categoryIdMap[row['class']],\n",
    "        'bbox': [row['xmin'], row['ymin'], row['xmax'] - row['xmin'], row['ymax'] - row['ymin']],\n",
    "        'area': (row['xmax'] - row['xmin']) * (row['ymax'] - row['ymin']),\n",
    "        'iscrowd': 0\n",
    "    }\n",
    "    cocoDataset.dataset['annotations'].append(annotationData)\n",
    "    \n",
    "cocoDataset.createIndex()\n",
    "\n",
    "# Speichere COCO-Datensatz\n",
    "cocoData = cocoDataset.dataset\n",
    "with open(os.path.join(datasetPathYoloX, '_annotations.json'), 'w') as jsonFile:\n",
    "    json.dump(cocoData, jsonFile)\n"
   ]
  },
  {
   "cell_type": "code",
   "execution_count": 47,
   "metadata": {},
   "outputs": [
    {
     "name": "stdout",
     "output_type": "stream",
     "text": [
      "{'id': 0, 'file_name': '1478900859981702684_jpg.rf.6830635c7d9197475638f0818f5dd103.jpg', 'width': 512, 'height': 512}\n"
     ]
    },
    {
     "data": {
      "text/plain": [
       "{'id': 3,\n",
       " 'image_id': 3,\n",
       " 'category_id': 0,\n",
       " 'bbox': [25, 258, 81, 46],\n",
       " 'area': 3726,\n",
       " 'iscrowd': 0}"
      ]
     },
     "execution_count": 47,
     "metadata": {},
     "output_type": "execute_result"
    }
   ],
   "source": [
    "# Ausgabe von Beispielen aus dem COCO-Datensatz\n",
    "print(cocoDataset.dataset['images'][0])\n",
    "cocoDataset.dataset['annotations'][3]"
   ]
  },
  {
   "attachments": {},
   "cell_type": "markdown",
   "metadata": {},
   "source": [
    "## Yolov8"
   ]
  },
  {
   "cell_type": "code",
   "execution_count": null,
   "metadata": {},
   "outputs": [],
   "source": [
    "datasetPathSRC = '../data/dataFiltered'\n",
    "datasetPathYolov8 = '../data/dataFormats/dataYoloV8'"
   ]
  },
  {
   "cell_type": "code",
   "execution_count": null,
   "metadata": {},
   "outputs": [],
   "source": []
  }
 ],
 "metadata": {
  "kernelspec": {
   "display_name": "deepvision",
   "language": "python",
   "name": "python3"
  },
  "language_info": {
   "codemirror_mode": {
    "name": "ipython",
    "version": 3
   },
   "file_extension": ".py",
   "mimetype": "text/x-python",
   "name": "python",
   "nbconvert_exporter": "python",
   "pygments_lexer": "ipython3",
   "version": "3.11.3"
  },
  "orig_nbformat": 4
 },
 "nbformat": 4,
 "nbformat_minor": 2
}
