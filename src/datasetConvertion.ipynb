{
 "cells": [
  {
   "attachments": {},
   "cell_type": "markdown",
   "metadata": {},
   "source": [
    "# Wandle Datensatz in das Format für YoloX und Yolov8 um"
   ]
  },
  {
   "cell_type": "code",
   "execution_count": 1,
   "metadata": {},
   "outputs": [],
   "source": [
    "import random\n",
    "import os\n",
    "import shutil\n",
    "import json\n",
    "\n",
    "import numpy as np\n",
    "import pandas as pd\n",
    "\n",
    "from pycocotools import coco"
   ]
  },
  {
   "attachments": {},
   "cell_type": "markdown",
   "metadata": {},
   "source": [
    "## YoloX"
   ]
  },
  {
   "cell_type": "code",
   "execution_count": 37,
   "metadata": {},
   "outputs": [],
   "source": [
    "datasetPathSRC = '../data/dataFiltered'\n",
    "datasetPathYoloX = '../data/dataYoloX'\n",
    "\n",
    "# Erstelle Ordnerstruktur wenn nicht vorhanden\n",
    "if not os.path.exists(datasetPathYoloX):\n",
    "    os.makedirs(datasetPathYoloX)\n",
    "    os.makedirs(datasetPathYoloX + '/trainImages')\n",
    "    os.makedirs(datasetPathYoloX + '/valImages')\n",
    "    os.makedirs(datasetPathYoloX + '/annotations')"
   ]
  },
  {
   "cell_type": "code",
   "execution_count": 38,
   "metadata": {},
   "outputs": [],
   "source": [
    "# Erstelle COCO Dataset categories\n",
    "categories = [\n",
    "    {'id': 0, 'name': 'car'},\n",
    "    {'id': 1, 'name': 'pedestrian'},\n",
    "    {'id': 2, 'name': 'trafficLight'},\n",
    "    {'id': 3, 'name': 'truck'},\n",
    "    {'id': 4, 'name': 'biker'}\n",
    "    ]\n"
   ]
  },
  {
   "cell_type": "code",
   "execution_count": 40,
   "metadata": {},
   "outputs": [],
   "source": [
    "def convertDatasetToCoco(annotationFilePath, datasetPathSRC, datasetPathYoloX, imageFolder, categories):\n",
    "    \"\"\"\n",
    "    Konvertiert den Dataensatz in das COCO-Format\n",
    "    \n",
    "    annotationFilePath: Pfad zur CSV-Datei mit den Annotationen\n",
    "    datasetPathSRC: Pfad zum Quell-Datensatz\n",
    "    datasetPathYoloX: Pfad zum YoloX-Datensatz\n",
    "    imageFolder: Ordner in dem die Bilder gespeichert werden (train oder val)\n",
    "    categories: Liste mit den Kategorien\n",
    "\n",
    "    return: COCO-Datensatz\n",
    "    \"\"\"\n",
    "    categoryIdMap = {category['name']: category['id'] for category in categories}\n",
    "    categoryData = [{'id': category['id'], 'name': category['name']} for category in categories]\n",
    "\n",
    "    # Erstelle leeren COCO-Datensatz\n",
    "    cocoDataset = coco.COCO()\n",
    "\n",
    "    # Füge Kategorien zum COCO-Datensatz hinzu\n",
    "    cocoDataset.dataset['categories'] = categoryData\n",
    "    print(\"Categories: \", cocoDataset.dataset['categories'])\n",
    "\n",
    "    annotationFile = pd.read_csv(annotationFilePath)\n",
    "    cocoDataset.dataset['images'] = []\n",
    "    cocoDataset.dataset['annotations'] = []\n",
    "\n",
    "    for index, row in annotationFile.iterrows():\n",
    "        # Pfad zum Bild\n",
    "        imageFilePath = os.path.join(datasetPathSRC, row['filename'])\n",
    "\n",
    "        # Kopiere Bild in YoloX Ordner\n",
    "        imagePathYoloX = os.path.join(datasetPathYoloX, imageFolder, row['filename'])\n",
    "        if not os.path.exists(imagePathYoloX):\n",
    "            shutil.copy(imageFilePath, imagePathYoloX)\n",
    "        \n",
    "        # Füge Bilder zum COCO-Datensatz hinzu\n",
    "        imageData = {\n",
    "            'id': index,\n",
    "            'file_name': row['filename'],\n",
    "            'height': row['height'],\n",
    "            'width': row['width']\n",
    "        }\n",
    "        cocoDataset.dataset['images'].append(imageData)\n",
    "\n",
    "        # Füge Annotationen zum COCO-Datensatz hinzu\n",
    "        annotationData = {\n",
    "            'id': index,\n",
    "            'image_id': index,\n",
    "            'category_id': categoryIdMap[row['class']],\n",
    "            'bbox': [row['xmin'], row['ymin'], row['xmax'] - row['xmin'], row['ymax'] - row['ymin']],\n",
    "            'area': (row['xmax'] - row['xmin']) * (row['ymax'] - row['ymin']),\n",
    "            'iscrowd': 0\n",
    "        }\n",
    "        cocoDataset.dataset['annotations'].append(annotationData)\n",
    "\n",
    "    cocoDataset.createIndex()\n",
    "\n",
    "    return cocoDataset\n",
    "            \n",
    "    "
   ]
  },
  {
   "cell_type": "code",
   "execution_count": 41,
   "metadata": {},
   "outputs": [
    {
     "name": "stdout",
     "output_type": "stream",
     "text": [
      "Categories:  [{'id': 0, 'name': 'car'}, {'id': 1, 'name': 'pedestrian'}, {'id': 2, 'name': 'trafficLight'}, {'id': 3, 'name': 'truck'}, {'id': 4, 'name': 'biker'}]\n",
      "creating index...\n",
      "index created!\n",
      "Categories:  [{'id': 0, 'name': 'car'}, {'id': 1, 'name': 'pedestrian'}, {'id': 2, 'name': 'trafficLight'}, {'id': 3, 'name': 'truck'}, {'id': 4, 'name': 'biker'}]\n",
      "creating index...\n",
      "index created!\n"
     ]
    }
   ],
   "source": [
    "annotationFilePath = os.path.join(datasetPathSRC, '_train_annotations_newClasses.csv')\n",
    "trainCocoDataset = convertDatasetToCoco(annotationFilePath, datasetPathSRC, datasetPathYoloX, 'trainImages', categories)\n",
    "\n",
    "annotationFilePath = os.path.join(datasetPathSRC, '_val_annotations_newClasses.csv')\n",
    "valCocoDataset = convertDatasetToCoco(annotationFilePath, datasetPathSRC, datasetPathYoloX, 'valImages', categories)\n",
    "\n",
    "with open(os.path.join(datasetPathYoloX, 'annotations', 'instances_train.json'), 'w') as trainFile:\n",
    "    json.dump(trainCocoDataset.dataset, trainFile)\n",
    "\n",
    "with open(os.path.join(datasetPathYoloX, 'annotations', 'instances_val.json'), 'w') as valFile:\n",
    "    json.dump(valCocoDataset.dataset, valFile)"
   ]
  },
  {
   "attachments": {},
   "cell_type": "markdown",
   "metadata": {},
   "source": [
    "## Yolov8"
   ]
  },
  {
   "cell_type": "code",
   "execution_count": null,
   "metadata": {},
   "outputs": [],
   "source": [
    "datasetPathSRC = '../data/dataFiltered'\n",
    "datasetPathYolov8 = '../data/dataYoloV8'"
   ]
  },
  {
   "cell_type": "code",
   "execution_count": null,
   "metadata": {},
   "outputs": [],
   "source": []
  }
 ],
 "metadata": {
  "kernelspec": {
   "display_name": "deepvision",
   "language": "python",
   "name": "python3"
  },
  "language_info": {
   "codemirror_mode": {
    "name": "ipython",
    "version": 3
   },
   "file_extension": ".py",
   "mimetype": "text/x-python",
   "name": "python",
   "nbconvert_exporter": "python",
   "pygments_lexer": "ipython3",
   "version": "3.11.3"
  },
  "orig_nbformat": 4
 },
 "nbformat": 4,
 "nbformat_minor": 2
}
