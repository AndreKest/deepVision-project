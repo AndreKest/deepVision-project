{
 "cells": [
  {
   "attachments": {},
   "cell_type": "markdown",
   "metadata": {},
   "source": [
    "# Wandle Datensatz in das Format für YoloX und Yolov8 um"
   ]
  },
  {
   "cell_type": "code",
   "execution_count": 72,
   "metadata": {},
   "outputs": [],
   "source": [
    "import random\n",
    "import os\n",
    "import shutil\n",
    "import json\n",
    "\n",
    "import numpy as np\n",
    "import pandas as pd\n",
    "\n",
    "from pycocotools import coco"
   ]
  },
  {
   "attachments": {},
   "cell_type": "markdown",
   "metadata": {},
   "source": [
    "## YoloX"
   ]
  },
  {
   "cell_type": "code",
   "execution_count": 73,
   "metadata": {},
   "outputs": [],
   "source": [
    "datasetPathSRC = '../data/dataFiltered'\n",
    "datasetPathYoloX = '../data/dataYoloX'\n",
    "\n",
    "# Erstelle Ordnerstruktur wenn nicht vorhanden\n",
    "if not os.path.exists(datasetPathYoloX):\n",
    "    os.makedirs(datasetPathYoloX)\n",
    "    os.makedirs(datasetPathYoloX + '/trainImages')\n",
    "    os.makedirs(datasetPathYoloX + '/valImages')\n",
    "    os.makedirs(datasetPathYoloX + '/annotations')"
   ]
  },
  {
   "cell_type": "code",
   "execution_count": 74,
   "metadata": {},
   "outputs": [],
   "source": [
    "# Erstelle COCO Dataset categories\n",
    "categories = [\n",
    "    {'id': 0, 'name': 'car'},\n",
    "    {'id': 1, 'name': 'pedestrian'},\n",
    "    {'id': 2, 'name': 'trafficLight'},\n",
    "    {'id': 3, 'name': 'truck'},\n",
    "    {'id': 4, 'name': 'biker'}\n",
    "    ]\n"
   ]
  },
  {
   "cell_type": "code",
   "execution_count": 75,
   "metadata": {},
   "outputs": [],
   "source": [
    "def convertDatasetToCoco(annotationFilePath, datasetPathSRC, datasetPathYoloX, imageFolder, categories):\n",
    "    \"\"\"\n",
    "    Konvertiert den Dataensatz in das COCO-Format\n",
    "    \n",
    "    annotationFilePath: Pfad zur CSV-Datei mit den Annotationen\n",
    "    datasetPathSRC: Pfad zum Quell-Datensatz\n",
    "    datasetPathYoloX: Pfad zum YoloX-Datensatz\n",
    "    imageFolder: Ordner in dem die Bilder gespeichert werden (train oder val)\n",
    "    categories: Liste mit den Kategorien\n",
    "\n",
    "    return: COCO-Datensatz\n",
    "    \"\"\"\n",
    "    categoryIdMap = {category['name']: category['id'] for category in categories}\n",
    "    categoryData = [{'id': category['id'], 'name': category['name']} for category in categories]\n",
    "\n",
    "    # Erstelle leeren COCO-Datensatz\n",
    "    cocoDataset = coco.COCO()\n",
    "\n",
    "    # Füge Kategorien zum COCO-Datensatz hinzu\n",
    "    cocoDataset.dataset['categories'] = categoryData\n",
    "    print(\"Categories: \", cocoDataset.dataset['categories'])\n",
    "\n",
    "    annotationFile = pd.read_csv(annotationFilePath)\n",
    "    cocoDataset.dataset['images'] = []\n",
    "    cocoDataset.dataset['annotations'] = []\n",
    "\n",
    "    # change to unique filenames for index\n",
    "    uniqueFilesnames = annotationFile['filename'].unique()\n",
    "    \n",
    "    for index, filename in enumerate(uniqueFilesnames):\n",
    "        # Pfad zum Bild\n",
    "        imageFilePath = os.path.join(datasetPathSRC, filename)\n",
    "\n",
    "        # Kopiere Bild in YoloX Ordner wenn noch nicht vorhanden\n",
    "        imagePathYoloX = os.path.join(datasetPathYoloX, imageFolder, filename)\n",
    "        if not os.path.exists(imagePathYoloX):\n",
    "            shutil.copy(imageFilePath, imagePathYoloX)\n",
    "        \n",
    "        # Füge Bild zum COCO-Datensatz hinzu\n",
    "        imageData = {\n",
    "            'id': index,\n",
    "            'file_name': filename,\n",
    "            'height': int(annotationFile.loc[annotationFile['filename'] == filename]['height'].iloc[0]),\n",
    "            'width': int(annotationFile.loc[annotationFile['filename'] == filename]['width'].iloc[0])\n",
    "        }\n",
    "        cocoDataset.dataset['images'].append(imageData)\n",
    "\n",
    "        # Füge Annotaitonen zum COCO-Datensatz hinzu\n",
    "        for indexCategory, row in annotationFile.loc[annotationFile['filename'] == filename].iterrows():\n",
    "            annotationData = {\n",
    "                'id': indexCategory,\n",
    "                'image_id': index,\n",
    "                'category_id': categoryIdMap[row['class']],\n",
    "                'bbox': [row['xmin'], row['ymin'], row['xmax'] - row['xmin'], row['ymax'] - row['ymin']],\n",
    "                'area': (row['xmax'] - row['xmin']) * (row['ymax'] - row['ymin']),\n",
    "                'iscrowd': 0\n",
    "            }\n",
    "            cocoDataset.dataset['annotations'].append(annotationData)\n",
    "    \n",
    "\n",
    "    cocoDataset.createIndex()\n",
    "\n",
    "    return cocoDataset\n",
    "            \n",
    "    "
   ]
  },
  {
   "cell_type": "code",
   "execution_count": 76,
   "metadata": {},
   "outputs": [
    {
     "name": "stdout",
     "output_type": "stream",
     "text": [
      "Categories:  [{'id': 0, 'name': 'car'}, {'id': 1, 'name': 'pedestrian'}, {'id': 2, 'name': 'trafficLight'}, {'id': 3, 'name': 'truck'}, {'id': 4, 'name': 'biker'}]\n",
      "creating index...\n",
      "index created!\n",
      "Categories:  [{'id': 0, 'name': 'car'}, {'id': 1, 'name': 'pedestrian'}, {'id': 2, 'name': 'trafficLight'}, {'id': 3, 'name': 'truck'}, {'id': 4, 'name': 'biker'}]\n",
      "creating index...\n",
      "index created!\n"
     ]
    }
   ],
   "source": [
    "annotationFilePath = os.path.join(datasetPathSRC, '_train_annotations_newClasses.csv')\n",
    "trainCocoDataset = convertDatasetToCoco(annotationFilePath, datasetPathSRC, datasetPathYoloX, 'trainImages', categories)\n",
    "\n",
    "annotationFilePath = os.path.join(datasetPathSRC, '_val_annotations_newClasses.csv')\n",
    "valCocoDataset = convertDatasetToCoco(annotationFilePath, datasetPathSRC, datasetPathYoloX, 'valImages', categories)\n",
    "\n",
    "with open(os.path.join(datasetPathYoloX, 'annotations', 'instances_train.json'), 'w') as trainFile:\n",
    "    json.dump(trainCocoDataset.dataset, trainFile)\n",
    "\n",
    "with open(os.path.join(datasetPathYoloX, 'annotations', 'instances_val.json'), 'w') as valFile:\n",
    "    json.dump(valCocoDataset.dataset, valFile)"
   ]
  },
  {
   "attachments": {},
   "cell_type": "markdown",
   "metadata": {},
   "source": [
    "## Yolov8"
   ]
  },
  {
   "cell_type": "code",
   "execution_count": 26,
   "metadata": {},
   "outputs": [],
   "source": [
    "datasetPathSRC = '../data/dataFiltered'\n",
    "datasetPathYolov8 = '../data/dataYolov8'\n",
    "\n",
    "# Erstelle Ordnerstruktur wenn nicht vorhanden\n",
    "if not os.path.exists(datasetPathYolov8):\n",
    "    os.makedirs(datasetPathYolov8)\n",
    "    os.makedirs(datasetPathYolov8 + '/images')\n",
    "    os.makedirs(datasetPathYolov8 + '/images/train')\n",
    "    os.makedirs(datasetPathYolov8 + '/images/val')\n",
    "    os.makedirs(datasetPathYolov8 + '/labels')\n",
    "    os.makedirs(datasetPathYolov8 + '/labels/train')\n",
    "    os.makedirs(datasetPathYolov8 + '/labels/val')"
   ]
  },
  {
   "cell_type": "code",
   "execution_count": 27,
   "metadata": {},
   "outputs": [],
   "source": [
    "# Erstelle Kategorien für Mapping\n",
    "categories = [\n",
    "    {'id': 0, 'name': 'car'},\n",
    "    {'id': 1, 'name': 'pedestrian'},\n",
    "    {'id': 2, 'name': 'trafficLight'},\n",
    "    {'id': 3, 'name': 'truck'},\n",
    "    {'id': 4, 'name': 'biker'}\n",
    "    ]\n",
    "\n"
   ]
  },
  {
   "cell_type": "code",
   "execution_count": 30,
   "metadata": {},
   "outputs": [],
   "source": [
    "def convertDatasetToYolo(annotationFile, datasetPathSRC, datasetPathYolov8, imageFolder, categories):\n",
    "    \"\"\"  \"\"\"\n",
    "\n",
    "    categoryIdMap = {category['name']: category['id'] for category in categories}\n",
    "\n",
    "    fileNames = annotationFile['filename'].unique()\n",
    "\n",
    "    for fileName in fileNames:\n",
    "\n",
    "        imagePath = os.path.join(datasetPathSRC, fileName)\n",
    "        imagePathYolov8 = os.path.join(datasetPathYolov8, 'images', imageFolder, fileName)\n",
    "\n",
    "        if not os.path.exists(imagePathYolov8):\n",
    "            shutil.copy(imagePath, imagePathYolov8)\n",
    "\n",
    "        annotationFileFiltered = annotationFile[annotationFile['filename'] == fileName]\n",
    "        annotationFileFiltered = annotationFileFiltered.reset_index(drop=True)\n",
    "\n",
    "        image_width = annotationFileFiltered['width'][0]\n",
    "\n",
    "        with open(os.path.join(datasetPathYolov8, 'labels', imageFolder, fileName.replace('.jpg', '.txt')), 'w') as labelFile:\n",
    "            for index, row in annotationFileFiltered.iterrows():\n",
    "                x_center = (row['xmin'] + row['xmax']) / 2\n",
    "                y_center = (row['ymin'] + row['ymax']) / 2\n",
    "                bb_width = row['xmax'] - row['xmin']\n",
    "                bb_height = row['ymax'] - row['ymin']\n",
    "                labelFile.write(str(categoryIdMap[row['class']]) + ' ' + str(x_center/image_width) + ' ' + str(y_center/image_width) + ' ' + str(bb_width/image_width) + ' ' + str(bb_height/image_width) + '\\n')\n",
    "    "
   ]
  },
  {
   "cell_type": "code",
   "execution_count": 31,
   "metadata": {},
   "outputs": [],
   "source": [
    "annotationFilePath = os.path.join(datasetPathSRC, '_train_annotations_newClasses.csv')\n",
    "annotationFile = pd.read_csv(annotationFilePath)\n",
    "convertDatasetToYolo(annotationFile, datasetPathSRC, datasetPathYolov8, 'train', categories)\n",
    "\n",
    "annotationFilePath = os.path.join(datasetPathSRC, '_val_annotations_newClasses.csv')\n",
    "annotationFile = pd.read_csv(annotationFilePath)\n",
    "convertDatasetToYolo(annotationFile, datasetPathSRC, datasetPathYolov8, 'val', categories)"
   ]
  }
 ],
 "metadata": {
  "kernelspec": {
   "display_name": "deepvision",
   "language": "python",
   "name": "python3"
  },
  "language_info": {
   "codemirror_mode": {
    "name": "ipython",
    "version": 3
   },
   "file_extension": ".py",
   "mimetype": "text/x-python",
   "name": "python",
   "nbconvert_exporter": "python",
   "pygments_lexer": "ipython3",
   "version": "3.11.3"
  },
  "orig_nbformat": 4
 },
 "nbformat": 4,
 "nbformat_minor": 2
}
